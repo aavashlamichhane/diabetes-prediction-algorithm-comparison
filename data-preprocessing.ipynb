{
 "cells": [
  {
   "cell_type": "markdown",
   "id": "f52a1865",
   "metadata": {},
   "source": [
    "Import the pandas and numpy libraries, which are essential for data manipulation, cleaning, and performing numerical operations throughout the preprocessing workflow. These libraries provide the foundation for all subsequent data handling steps."
   ]
  },
  {
   "cell_type": "code",
   "execution_count": 13,
   "id": "0f6c3168",
   "metadata": {},
   "outputs": [],
   "source": [
    "import pandas as pd\n",
    "import numpy as np"
   ]
  },
  {
   "cell_type": "markdown",
   "id": "2565f134",
   "metadata": {},
   "source": [
    "Load the raw diabetes dataset from the CSV file into a pandas DataFrame. This is the initial step in the data pipeline, providing access to all patient records and features for further cleaning and analysis."
   ]
  },
  {
   "cell_type": "code",
   "execution_count": 14,
   "id": "be1d03f6",
   "metadata": {},
   "outputs": [
    {
     "name": "stderr",
     "output_type": "stream",
     "text": [
      "C:\\Users\\Aavash\\AppData\\Local\\Temp\\ipykernel_26680\\2974541540.py:1: DtypeWarning: Columns (10) have mixed types. Specify dtype option on import or set low_memory=False.\n",
      "  df = pd.read_csv(\"diabetes_data.csv\")\n"
     ]
    }
   ],
   "source": [
    "df = pd.read_csv(\"diabetes_data.csv\")"
   ]
  },
  {
   "cell_type": "markdown",
   "id": "f7ce6949",
   "metadata": {},
   "source": [
    "Define a function to generate a comprehensive report of missing (null) values in the DataFrame, including both the count and percentage of missing values for each column. This helps identify problematic features that may require special handling."
   ]
  },
  {
   "cell_type": "code",
   "execution_count": 15,
   "id": "0931896c",
   "metadata": {},
   "outputs": [],
   "source": [
    "def null_report(df):\n",
    "    null_counts = df.isnull().sum()\n",
    "    null_percent = (df.isnull().sum() / len(df)) * 100\n",
    "    return pd.DataFrame({'Null Count': null_counts, 'Null Percentage': null_percent.round(2)})"
   ]
  },
  {
   "cell_type": "markdown",
   "id": "a925d082",
   "metadata": {},
   "source": [
    "Display the value counts for the 'gender' column to inspect its distribution and identify any anomalies or unexpected categories, such as unknown or invalid entries."
   ]
  },
  {
   "cell_type": "code",
   "execution_count": 16,
   "id": "3be6e311",
   "metadata": {},
   "outputs": [
    {
     "data": {
      "text/plain": [
       "gender\n",
       "Female             54708\n",
       "Male               47055\n",
       "Unknown/Invalid        3\n",
       "Name: count, dtype: int64"
      ]
     },
     "execution_count": 16,
     "metadata": {},
     "output_type": "execute_result"
    }
   ],
   "source": [
    "df['gender'].value_counts()"
   ]
  },
  {
   "cell_type": "markdown",
   "id": "5ef796ef",
   "metadata": {},
   "source": [
    "Replace 'Unknown/Invalid' values in the 'gender' column with NaN to mark them as missing. This ensures that invalid gender entries are handled consistently during data cleaning."
   ]
  },
  {
   "cell_type": "code",
   "execution_count": 17,
   "id": "252c01eb",
   "metadata": {},
   "outputs": [],
   "source": [
    "df['gender'] = df['gender'].replace(to_replace='Unknown/Invalid', value=np.nan)"
   ]
  },
  {
   "cell_type": "markdown",
   "id": "79650a07",
   "metadata": {},
   "source": [
    "Generate a null value report to check the effect of the previous cleaning steps and to reassess the extent of missing data in the DataFrame."
   ]
  },
  {
   "cell_type": "code",
   "execution_count": 18,
   "id": "221feaad",
   "metadata": {},
   "outputs": [
    {
     "data": {
      "text/html": [
       "<div>\n",
       "<style scoped>\n",
       "    .dataframe tbody tr th:only-of-type {\n",
       "        vertical-align: middle;\n",
       "    }\n",
       "\n",
       "    .dataframe tbody tr th {\n",
       "        vertical-align: top;\n",
       "    }\n",
       "\n",
       "    .dataframe thead th {\n",
       "        text-align: right;\n",
       "    }\n",
       "</style>\n",
       "<table border=\"1\" class=\"dataframe\">\n",
       "  <thead>\n",
       "    <tr style=\"text-align: right;\">\n",
       "      <th></th>\n",
       "      <th>Null Count</th>\n",
       "      <th>Null Percentage</th>\n",
       "    </tr>\n",
       "  </thead>\n",
       "  <tbody>\n",
       "    <tr>\n",
       "      <th>encounter_id</th>\n",
       "      <td>0</td>\n",
       "      <td>0.00</td>\n",
       "    </tr>\n",
       "    <tr>\n",
       "      <th>patient_nbr</th>\n",
       "      <td>0</td>\n",
       "      <td>0.00</td>\n",
       "    </tr>\n",
       "    <tr>\n",
       "      <th>race</th>\n",
       "      <td>2273</td>\n",
       "      <td>2.23</td>\n",
       "    </tr>\n",
       "    <tr>\n",
       "      <th>gender</th>\n",
       "      <td>3</td>\n",
       "      <td>0.00</td>\n",
       "    </tr>\n",
       "    <tr>\n",
       "      <th>age</th>\n",
       "      <td>0</td>\n",
       "      <td>0.00</td>\n",
       "    </tr>\n",
       "    <tr>\n",
       "      <th>weight</th>\n",
       "      <td>98569</td>\n",
       "      <td>96.86</td>\n",
       "    </tr>\n",
       "    <tr>\n",
       "      <th>admission_type_id</th>\n",
       "      <td>0</td>\n",
       "      <td>0.00</td>\n",
       "    </tr>\n",
       "    <tr>\n",
       "      <th>discharge_disposition_id</th>\n",
       "      <td>0</td>\n",
       "      <td>0.00</td>\n",
       "    </tr>\n",
       "    <tr>\n",
       "      <th>admission_source_id</th>\n",
       "      <td>0</td>\n",
       "      <td>0.00</td>\n",
       "    </tr>\n",
       "    <tr>\n",
       "      <th>time_in_hospital</th>\n",
       "      <td>0</td>\n",
       "      <td>0.00</td>\n",
       "    </tr>\n",
       "    <tr>\n",
       "      <th>payer_code</th>\n",
       "      <td>40256</td>\n",
       "      <td>39.56</td>\n",
       "    </tr>\n",
       "    <tr>\n",
       "      <th>medical_specialty</th>\n",
       "      <td>49949</td>\n",
       "      <td>49.08</td>\n",
       "    </tr>\n",
       "    <tr>\n",
       "      <th>num_lab_procedures</th>\n",
       "      <td>0</td>\n",
       "      <td>0.00</td>\n",
       "    </tr>\n",
       "    <tr>\n",
       "      <th>num_procedures</th>\n",
       "      <td>0</td>\n",
       "      <td>0.00</td>\n",
       "    </tr>\n",
       "    <tr>\n",
       "      <th>num_medications</th>\n",
       "      <td>0</td>\n",
       "      <td>0.00</td>\n",
       "    </tr>\n",
       "    <tr>\n",
       "      <th>number_outpatient</th>\n",
       "      <td>0</td>\n",
       "      <td>0.00</td>\n",
       "    </tr>\n",
       "    <tr>\n",
       "      <th>number_emergency</th>\n",
       "      <td>0</td>\n",
       "      <td>0.00</td>\n",
       "    </tr>\n",
       "    <tr>\n",
       "      <th>number_inpatient</th>\n",
       "      <td>0</td>\n",
       "      <td>0.00</td>\n",
       "    </tr>\n",
       "    <tr>\n",
       "      <th>diag_1</th>\n",
       "      <td>21</td>\n",
       "      <td>0.02</td>\n",
       "    </tr>\n",
       "    <tr>\n",
       "      <th>diag_2</th>\n",
       "      <td>358</td>\n",
       "      <td>0.35</td>\n",
       "    </tr>\n",
       "    <tr>\n",
       "      <th>diag_3</th>\n",
       "      <td>1423</td>\n",
       "      <td>1.40</td>\n",
       "    </tr>\n",
       "    <tr>\n",
       "      <th>number_diagnoses</th>\n",
       "      <td>0</td>\n",
       "      <td>0.00</td>\n",
       "    </tr>\n",
       "    <tr>\n",
       "      <th>max_glu_serum</th>\n",
       "      <td>96420</td>\n",
       "      <td>94.75</td>\n",
       "    </tr>\n",
       "    <tr>\n",
       "      <th>A1Cresult</th>\n",
       "      <td>84748</td>\n",
       "      <td>83.28</td>\n",
       "    </tr>\n",
       "    <tr>\n",
       "      <th>metformin</th>\n",
       "      <td>0</td>\n",
       "      <td>0.00</td>\n",
       "    </tr>\n",
       "    <tr>\n",
       "      <th>repaglinide</th>\n",
       "      <td>0</td>\n",
       "      <td>0.00</td>\n",
       "    </tr>\n",
       "    <tr>\n",
       "      <th>nateglinide</th>\n",
       "      <td>0</td>\n",
       "      <td>0.00</td>\n",
       "    </tr>\n",
       "    <tr>\n",
       "      <th>chlorpropamide</th>\n",
       "      <td>0</td>\n",
       "      <td>0.00</td>\n",
       "    </tr>\n",
       "    <tr>\n",
       "      <th>glimepiride</th>\n",
       "      <td>0</td>\n",
       "      <td>0.00</td>\n",
       "    </tr>\n",
       "    <tr>\n",
       "      <th>acetohexamide</th>\n",
       "      <td>0</td>\n",
       "      <td>0.00</td>\n",
       "    </tr>\n",
       "    <tr>\n",
       "      <th>glipizide</th>\n",
       "      <td>0</td>\n",
       "      <td>0.00</td>\n",
       "    </tr>\n",
       "    <tr>\n",
       "      <th>glyburide</th>\n",
       "      <td>0</td>\n",
       "      <td>0.00</td>\n",
       "    </tr>\n",
       "    <tr>\n",
       "      <th>tolbutamide</th>\n",
       "      <td>0</td>\n",
       "      <td>0.00</td>\n",
       "    </tr>\n",
       "    <tr>\n",
       "      <th>pioglitazone</th>\n",
       "      <td>0</td>\n",
       "      <td>0.00</td>\n",
       "    </tr>\n",
       "    <tr>\n",
       "      <th>rosiglitazone</th>\n",
       "      <td>0</td>\n",
       "      <td>0.00</td>\n",
       "    </tr>\n",
       "    <tr>\n",
       "      <th>acarbose</th>\n",
       "      <td>0</td>\n",
       "      <td>0.00</td>\n",
       "    </tr>\n",
       "    <tr>\n",
       "      <th>miglitol</th>\n",
       "      <td>0</td>\n",
       "      <td>0.00</td>\n",
       "    </tr>\n",
       "    <tr>\n",
       "      <th>troglitazone</th>\n",
       "      <td>0</td>\n",
       "      <td>0.00</td>\n",
       "    </tr>\n",
       "    <tr>\n",
       "      <th>tolazamide</th>\n",
       "      <td>0</td>\n",
       "      <td>0.00</td>\n",
       "    </tr>\n",
       "    <tr>\n",
       "      <th>examide</th>\n",
       "      <td>0</td>\n",
       "      <td>0.00</td>\n",
       "    </tr>\n",
       "    <tr>\n",
       "      <th>citoglipton</th>\n",
       "      <td>0</td>\n",
       "      <td>0.00</td>\n",
       "    </tr>\n",
       "    <tr>\n",
       "      <th>insulin</th>\n",
       "      <td>0</td>\n",
       "      <td>0.00</td>\n",
       "    </tr>\n",
       "    <tr>\n",
       "      <th>glyburide-metformin</th>\n",
       "      <td>0</td>\n",
       "      <td>0.00</td>\n",
       "    </tr>\n",
       "    <tr>\n",
       "      <th>glipizide-metformin</th>\n",
       "      <td>0</td>\n",
       "      <td>0.00</td>\n",
       "    </tr>\n",
       "    <tr>\n",
       "      <th>glimepiride-pioglitazone</th>\n",
       "      <td>0</td>\n",
       "      <td>0.00</td>\n",
       "    </tr>\n",
       "    <tr>\n",
       "      <th>metformin-rosiglitazone</th>\n",
       "      <td>0</td>\n",
       "      <td>0.00</td>\n",
       "    </tr>\n",
       "    <tr>\n",
       "      <th>metformin-pioglitazone</th>\n",
       "      <td>0</td>\n",
       "      <td>0.00</td>\n",
       "    </tr>\n",
       "    <tr>\n",
       "      <th>change</th>\n",
       "      <td>0</td>\n",
       "      <td>0.00</td>\n",
       "    </tr>\n",
       "    <tr>\n",
       "      <th>diabetesMed</th>\n",
       "      <td>0</td>\n",
       "      <td>0.00</td>\n",
       "    </tr>\n",
       "    <tr>\n",
       "      <th>readmitted</th>\n",
       "      <td>0</td>\n",
       "      <td>0.00</td>\n",
       "    </tr>\n",
       "  </tbody>\n",
       "</table>\n",
       "</div>"
      ],
      "text/plain": [
       "                          Null Count  Null Percentage\n",
       "encounter_id                       0             0.00\n",
       "patient_nbr                        0             0.00\n",
       "race                            2273             2.23\n",
       "gender                             3             0.00\n",
       "age                                0             0.00\n",
       "weight                         98569            96.86\n",
       "admission_type_id                  0             0.00\n",
       "discharge_disposition_id           0             0.00\n",
       "admission_source_id                0             0.00\n",
       "time_in_hospital                   0             0.00\n",
       "payer_code                     40256            39.56\n",
       "medical_specialty              49949            49.08\n",
       "num_lab_procedures                 0             0.00\n",
       "num_procedures                     0             0.00\n",
       "num_medications                    0             0.00\n",
       "number_outpatient                  0             0.00\n",
       "number_emergency                   0             0.00\n",
       "number_inpatient                   0             0.00\n",
       "diag_1                            21             0.02\n",
       "diag_2                           358             0.35\n",
       "diag_3                          1423             1.40\n",
       "number_diagnoses                   0             0.00\n",
       "max_glu_serum                  96420            94.75\n",
       "A1Cresult                      84748            83.28\n",
       "metformin                          0             0.00\n",
       "repaglinide                        0             0.00\n",
       "nateglinide                        0             0.00\n",
       "chlorpropamide                     0             0.00\n",
       "glimepiride                        0             0.00\n",
       "acetohexamide                      0             0.00\n",
       "glipizide                          0             0.00\n",
       "glyburide                          0             0.00\n",
       "tolbutamide                        0             0.00\n",
       "pioglitazone                       0             0.00\n",
       "rosiglitazone                      0             0.00\n",
       "acarbose                           0             0.00\n",
       "miglitol                           0             0.00\n",
       "troglitazone                       0             0.00\n",
       "tolazamide                         0             0.00\n",
       "examide                            0             0.00\n",
       "citoglipton                        0             0.00\n",
       "insulin                            0             0.00\n",
       "glyburide-metformin                0             0.00\n",
       "glipizide-metformin                0             0.00\n",
       "glimepiride-pioglitazone           0             0.00\n",
       "metformin-rosiglitazone            0             0.00\n",
       "metformin-pioglitazone             0             0.00\n",
       "change                             0             0.00\n",
       "diabetesMed                        0             0.00\n",
       "readmitted                         0             0.00"
      ]
     },
     "execution_count": 18,
     "metadata": {},
     "output_type": "execute_result"
    }
   ],
   "source": [
    "null_report(df)"
   ]
  },
  {
   "cell_type": "markdown",
   "id": "6483f7ee",
   "metadata": {},
   "source": [
    "Drop columns with excessive missing values ('weight', 'medical_specialty', and 'payer_code') to improve data quality and reduce noise in subsequent analyses."
   ]
  },
  {
   "cell_type": "code",
   "execution_count": 19,
   "id": "5c45e8d1",
   "metadata": {},
   "outputs": [],
   "source": [
    "df = df.drop(['weight', 'medical_specialty', 'payer_code'], axis=1) # Dropping columns with too many null values"
   ]
  },
  {
   "cell_type": "markdown",
   "id": "c5800e4f",
   "metadata": {},
   "source": [
    "Drop rows where any of the key columns ('race', 'gender', 'diag_1', 'diag_2', 'diag_3') have missing values. This step ensures that only complete records are retained for critical features."
   ]
  },
  {
   "cell_type": "code",
   "execution_count": 20,
   "id": "2130d893",
   "metadata": {},
   "outputs": [],
   "source": [
    "df = df.dropna(subset=['race', 'gender', 'diag_1', 'diag_2', 'diag_3']) # Dropping rows with null values"
   ]
  },
  {
   "cell_type": "markdown",
   "id": "40cf657e",
   "metadata": {},
   "source": [
    "Fill missing values in 'max_glu_serum' and 'A1Cresult' columns with 'Not Taken', indicating that these tests were not performed for those patients."
   ]
  },
  {
   "cell_type": "code",
   "execution_count": 21,
   "id": "30cdcc4f",
   "metadata": {},
   "outputs": [],
   "source": [
    "df['max_glu_serum'] = df['max_glu_serum'].fillna('Not Taken')\n",
    "df['A1Cresult'] = df['A1Cresult'].fillna('Not Taken')"
   ]
  },
  {
   "cell_type": "markdown",
   "id": "2b18cf57",
   "metadata": {},
   "source": [
    "Check for remaining missing values after the previous cleaning steps to confirm that the dataset is now suitable for further processing."
   ]
  },
  {
   "cell_type": "code",
   "execution_count": 22,
   "id": "7a16b0dd",
   "metadata": {},
   "outputs": [
    {
     "data": {
      "text/html": [
       "<div>\n",
       "<style scoped>\n",
       "    .dataframe tbody tr th:only-of-type {\n",
       "        vertical-align: middle;\n",
       "    }\n",
       "\n",
       "    .dataframe tbody tr th {\n",
       "        vertical-align: top;\n",
       "    }\n",
       "\n",
       "    .dataframe thead th {\n",
       "        text-align: right;\n",
       "    }\n",
       "</style>\n",
       "<table border=\"1\" class=\"dataframe\">\n",
       "  <thead>\n",
       "    <tr style=\"text-align: right;\">\n",
       "      <th></th>\n",
       "      <th>Null Count</th>\n",
       "      <th>Null Percentage</th>\n",
       "    </tr>\n",
       "  </thead>\n",
       "  <tbody>\n",
       "    <tr>\n",
       "      <th>encounter_id</th>\n",
       "      <td>0</td>\n",
       "      <td>0.0</td>\n",
       "    </tr>\n",
       "    <tr>\n",
       "      <th>patient_nbr</th>\n",
       "      <td>0</td>\n",
       "      <td>0.0</td>\n",
       "    </tr>\n",
       "    <tr>\n",
       "      <th>race</th>\n",
       "      <td>0</td>\n",
       "      <td>0.0</td>\n",
       "    </tr>\n",
       "    <tr>\n",
       "      <th>gender</th>\n",
       "      <td>0</td>\n",
       "      <td>0.0</td>\n",
       "    </tr>\n",
       "    <tr>\n",
       "      <th>age</th>\n",
       "      <td>0</td>\n",
       "      <td>0.0</td>\n",
       "    </tr>\n",
       "    <tr>\n",
       "      <th>admission_type_id</th>\n",
       "      <td>0</td>\n",
       "      <td>0.0</td>\n",
       "    </tr>\n",
       "    <tr>\n",
       "      <th>discharge_disposition_id</th>\n",
       "      <td>0</td>\n",
       "      <td>0.0</td>\n",
       "    </tr>\n",
       "    <tr>\n",
       "      <th>admission_source_id</th>\n",
       "      <td>0</td>\n",
       "      <td>0.0</td>\n",
       "    </tr>\n",
       "    <tr>\n",
       "      <th>time_in_hospital</th>\n",
       "      <td>0</td>\n",
       "      <td>0.0</td>\n",
       "    </tr>\n",
       "    <tr>\n",
       "      <th>num_lab_procedures</th>\n",
       "      <td>0</td>\n",
       "      <td>0.0</td>\n",
       "    </tr>\n",
       "    <tr>\n",
       "      <th>num_procedures</th>\n",
       "      <td>0</td>\n",
       "      <td>0.0</td>\n",
       "    </tr>\n",
       "    <tr>\n",
       "      <th>num_medications</th>\n",
       "      <td>0</td>\n",
       "      <td>0.0</td>\n",
       "    </tr>\n",
       "    <tr>\n",
       "      <th>number_outpatient</th>\n",
       "      <td>0</td>\n",
       "      <td>0.0</td>\n",
       "    </tr>\n",
       "    <tr>\n",
       "      <th>number_emergency</th>\n",
       "      <td>0</td>\n",
       "      <td>0.0</td>\n",
       "    </tr>\n",
       "    <tr>\n",
       "      <th>number_inpatient</th>\n",
       "      <td>0</td>\n",
       "      <td>0.0</td>\n",
       "    </tr>\n",
       "    <tr>\n",
       "      <th>diag_1</th>\n",
       "      <td>0</td>\n",
       "      <td>0.0</td>\n",
       "    </tr>\n",
       "    <tr>\n",
       "      <th>diag_2</th>\n",
       "      <td>0</td>\n",
       "      <td>0.0</td>\n",
       "    </tr>\n",
       "    <tr>\n",
       "      <th>diag_3</th>\n",
       "      <td>0</td>\n",
       "      <td>0.0</td>\n",
       "    </tr>\n",
       "    <tr>\n",
       "      <th>number_diagnoses</th>\n",
       "      <td>0</td>\n",
       "      <td>0.0</td>\n",
       "    </tr>\n",
       "    <tr>\n",
       "      <th>max_glu_serum</th>\n",
       "      <td>0</td>\n",
       "      <td>0.0</td>\n",
       "    </tr>\n",
       "    <tr>\n",
       "      <th>A1Cresult</th>\n",
       "      <td>0</td>\n",
       "      <td>0.0</td>\n",
       "    </tr>\n",
       "    <tr>\n",
       "      <th>metformin</th>\n",
       "      <td>0</td>\n",
       "      <td>0.0</td>\n",
       "    </tr>\n",
       "    <tr>\n",
       "      <th>repaglinide</th>\n",
       "      <td>0</td>\n",
       "      <td>0.0</td>\n",
       "    </tr>\n",
       "    <tr>\n",
       "      <th>nateglinide</th>\n",
       "      <td>0</td>\n",
       "      <td>0.0</td>\n",
       "    </tr>\n",
       "    <tr>\n",
       "      <th>chlorpropamide</th>\n",
       "      <td>0</td>\n",
       "      <td>0.0</td>\n",
       "    </tr>\n",
       "    <tr>\n",
       "      <th>glimepiride</th>\n",
       "      <td>0</td>\n",
       "      <td>0.0</td>\n",
       "    </tr>\n",
       "    <tr>\n",
       "      <th>acetohexamide</th>\n",
       "      <td>0</td>\n",
       "      <td>0.0</td>\n",
       "    </tr>\n",
       "    <tr>\n",
       "      <th>glipizide</th>\n",
       "      <td>0</td>\n",
       "      <td>0.0</td>\n",
       "    </tr>\n",
       "    <tr>\n",
       "      <th>glyburide</th>\n",
       "      <td>0</td>\n",
       "      <td>0.0</td>\n",
       "    </tr>\n",
       "    <tr>\n",
       "      <th>tolbutamide</th>\n",
       "      <td>0</td>\n",
       "      <td>0.0</td>\n",
       "    </tr>\n",
       "    <tr>\n",
       "      <th>pioglitazone</th>\n",
       "      <td>0</td>\n",
       "      <td>0.0</td>\n",
       "    </tr>\n",
       "    <tr>\n",
       "      <th>rosiglitazone</th>\n",
       "      <td>0</td>\n",
       "      <td>0.0</td>\n",
       "    </tr>\n",
       "    <tr>\n",
       "      <th>acarbose</th>\n",
       "      <td>0</td>\n",
       "      <td>0.0</td>\n",
       "    </tr>\n",
       "    <tr>\n",
       "      <th>miglitol</th>\n",
       "      <td>0</td>\n",
       "      <td>0.0</td>\n",
       "    </tr>\n",
       "    <tr>\n",
       "      <th>troglitazone</th>\n",
       "      <td>0</td>\n",
       "      <td>0.0</td>\n",
       "    </tr>\n",
       "    <tr>\n",
       "      <th>tolazamide</th>\n",
       "      <td>0</td>\n",
       "      <td>0.0</td>\n",
       "    </tr>\n",
       "    <tr>\n",
       "      <th>examide</th>\n",
       "      <td>0</td>\n",
       "      <td>0.0</td>\n",
       "    </tr>\n",
       "    <tr>\n",
       "      <th>citoglipton</th>\n",
       "      <td>0</td>\n",
       "      <td>0.0</td>\n",
       "    </tr>\n",
       "    <tr>\n",
       "      <th>insulin</th>\n",
       "      <td>0</td>\n",
       "      <td>0.0</td>\n",
       "    </tr>\n",
       "    <tr>\n",
       "      <th>glyburide-metformin</th>\n",
       "      <td>0</td>\n",
       "      <td>0.0</td>\n",
       "    </tr>\n",
       "    <tr>\n",
       "      <th>glipizide-metformin</th>\n",
       "      <td>0</td>\n",
       "      <td>0.0</td>\n",
       "    </tr>\n",
       "    <tr>\n",
       "      <th>glimepiride-pioglitazone</th>\n",
       "      <td>0</td>\n",
       "      <td>0.0</td>\n",
       "    </tr>\n",
       "    <tr>\n",
       "      <th>metformin-rosiglitazone</th>\n",
       "      <td>0</td>\n",
       "      <td>0.0</td>\n",
       "    </tr>\n",
       "    <tr>\n",
       "      <th>metformin-pioglitazone</th>\n",
       "      <td>0</td>\n",
       "      <td>0.0</td>\n",
       "    </tr>\n",
       "    <tr>\n",
       "      <th>change</th>\n",
       "      <td>0</td>\n",
       "      <td>0.0</td>\n",
       "    </tr>\n",
       "    <tr>\n",
       "      <th>diabetesMed</th>\n",
       "      <td>0</td>\n",
       "      <td>0.0</td>\n",
       "    </tr>\n",
       "    <tr>\n",
       "      <th>readmitted</th>\n",
       "      <td>0</td>\n",
       "      <td>0.0</td>\n",
       "    </tr>\n",
       "  </tbody>\n",
       "</table>\n",
       "</div>"
      ],
      "text/plain": [
       "                          Null Count  Null Percentage\n",
       "encounter_id                       0              0.0\n",
       "patient_nbr                        0              0.0\n",
       "race                               0              0.0\n",
       "gender                             0              0.0\n",
       "age                                0              0.0\n",
       "admission_type_id                  0              0.0\n",
       "discharge_disposition_id           0              0.0\n",
       "admission_source_id                0              0.0\n",
       "time_in_hospital                   0              0.0\n",
       "num_lab_procedures                 0              0.0\n",
       "num_procedures                     0              0.0\n",
       "num_medications                    0              0.0\n",
       "number_outpatient                  0              0.0\n",
       "number_emergency                   0              0.0\n",
       "number_inpatient                   0              0.0\n",
       "diag_1                             0              0.0\n",
       "diag_2                             0              0.0\n",
       "diag_3                             0              0.0\n",
       "number_diagnoses                   0              0.0\n",
       "max_glu_serum                      0              0.0\n",
       "A1Cresult                          0              0.0\n",
       "metformin                          0              0.0\n",
       "repaglinide                        0              0.0\n",
       "nateglinide                        0              0.0\n",
       "chlorpropamide                     0              0.0\n",
       "glimepiride                        0              0.0\n",
       "acetohexamide                      0              0.0\n",
       "glipizide                          0              0.0\n",
       "glyburide                          0              0.0\n",
       "tolbutamide                        0              0.0\n",
       "pioglitazone                       0              0.0\n",
       "rosiglitazone                      0              0.0\n",
       "acarbose                           0              0.0\n",
       "miglitol                           0              0.0\n",
       "troglitazone                       0              0.0\n",
       "tolazamide                         0              0.0\n",
       "examide                            0              0.0\n",
       "citoglipton                        0              0.0\n",
       "insulin                            0              0.0\n",
       "glyburide-metformin                0              0.0\n",
       "glipizide-metformin                0              0.0\n",
       "glimepiride-pioglitazone           0              0.0\n",
       "metformin-rosiglitazone            0              0.0\n",
       "metformin-pioglitazone             0              0.0\n",
       "change                             0              0.0\n",
       "diabetesMed                        0              0.0\n",
       "readmitted                         0              0.0"
      ]
     },
     "execution_count": 22,
     "metadata": {},
     "output_type": "execute_result"
    }
   ],
   "source": [
    "null_report(df)"
   ]
  },
  {
   "cell_type": "markdown",
   "id": "bb763c41",
   "metadata": {},
   "source": [
    "Display the number of unique values in each column to understand the diversity and cardinality of categorical and numerical features, which is important for feature engineering."
   ]
  },
  {
   "cell_type": "code",
   "execution_count": 23,
   "id": "72a22036",
   "metadata": {},
   "outputs": [
    {
     "data": {
      "text/plain": [
       "encounter_id                98052\n",
       "patient_nbr                 68629\n",
       "race                            5\n",
       "gender                          2\n",
       "age                            10\n",
       "admission_type_id               8\n",
       "discharge_disposition_id       26\n",
       "admission_source_id            17\n",
       "time_in_hospital               14\n",
       "num_lab_procedures            118\n",
       "num_procedures                  7\n",
       "num_medications                75\n",
       "number_outpatient              39\n",
       "number_emergency               33\n",
       "number_inpatient               20\n",
       "diag_1                        713\n",
       "diag_2                        740\n",
       "diag_3                        786\n",
       "number_diagnoses               14\n",
       "max_glu_serum                   4\n",
       "A1Cresult                       4\n",
       "metformin                       4\n",
       "repaglinide                     4\n",
       "nateglinide                     4\n",
       "chlorpropamide                  4\n",
       "glimepiride                     4\n",
       "acetohexamide                   2\n",
       "glipizide                       4\n",
       "glyburide                       4\n",
       "tolbutamide                     2\n",
       "pioglitazone                    4\n",
       "rosiglitazone                   4\n",
       "acarbose                        4\n",
       "miglitol                        4\n",
       "troglitazone                    2\n",
       "tolazamide                      3\n",
       "examide                         1\n",
       "citoglipton                     1\n",
       "insulin                         4\n",
       "glyburide-metformin             4\n",
       "glipizide-metformin             2\n",
       "glimepiride-pioglitazone        2\n",
       "metformin-rosiglitazone         1\n",
       "metformin-pioglitazone          2\n",
       "change                          2\n",
       "diabetesMed                     2\n",
       "readmitted                      3\n",
       "dtype: int64"
      ]
     },
     "execution_count": 23,
     "metadata": {},
     "output_type": "execute_result"
    }
   ],
   "source": [
    "df.nunique()"
   ]
  },
  {
   "cell_type": "markdown",
   "id": "318b856e",
   "metadata": {},
   "source": [
    "Display the number of unique values in each column again (possibly for comparison after cleaning) to verify the impact of previous cleaning steps on feature diversity."
   ]
  },
  {
   "cell_type": "code",
   "execution_count": 24,
   "id": "c281082d",
   "metadata": {},
   "outputs": [
    {
     "data": {
      "text/plain": [
       "encounter_id                98052\n",
       "patient_nbr                 68629\n",
       "race                            5\n",
       "gender                          2\n",
       "age                            10\n",
       "admission_type_id               8\n",
       "discharge_disposition_id       26\n",
       "admission_source_id            17\n",
       "time_in_hospital               14\n",
       "num_lab_procedures            118\n",
       "num_procedures                  7\n",
       "num_medications                75\n",
       "number_outpatient              39\n",
       "number_emergency               33\n",
       "number_inpatient               20\n",
       "diag_1                        713\n",
       "diag_2                        740\n",
       "diag_3                        786\n",
       "number_diagnoses               14\n",
       "max_glu_serum                   4\n",
       "A1Cresult                       4\n",
       "metformin                       4\n",
       "repaglinide                     4\n",
       "nateglinide                     4\n",
       "chlorpropamide                  4\n",
       "glimepiride                     4\n",
       "acetohexamide                   2\n",
       "glipizide                       4\n",
       "glyburide                       4\n",
       "tolbutamide                     2\n",
       "pioglitazone                    4\n",
       "rosiglitazone                   4\n",
       "acarbose                        4\n",
       "miglitol                        4\n",
       "troglitazone                    2\n",
       "tolazamide                      3\n",
       "examide                         1\n",
       "citoglipton                     1\n",
       "insulin                         4\n",
       "glyburide-metformin             4\n",
       "glipizide-metformin             2\n",
       "glimepiride-pioglitazone        2\n",
       "metformin-rosiglitazone         1\n",
       "metformin-pioglitazone          2\n",
       "change                          2\n",
       "diabetesMed                     2\n",
       "readmitted                      3\n",
       "dtype: int64"
      ]
     },
     "execution_count": 24,
     "metadata": {},
     "output_type": "execute_result"
    }
   ],
   "source": [
    "df.nunique()"
   ]
  },
  {
   "cell_type": "markdown",
   "id": "82de52e5",
   "metadata": {},
   "source": [
    "Drop columns 'citoglipton', 'metformin-rosiglitazone', and 'examide' as they are not useful for analysis, either due to low variance or irrelevance to the modeling task."
   ]
  },
  {
   "cell_type": "code",
   "execution_count": 36,
   "id": "97bb0d6a",
   "metadata": {},
   "outputs": [],
   "source": [
    "df = df.drop(['citoglipton', 'metformin-rosiglitazone', 'examide'], axis=1)"
   ]
  },
  {
   "cell_type": "markdown",
   "id": "04954521",
   "metadata": {},
   "source": [
    "Show the current shape (number of rows and columns) of the DataFrame after dropping unnecessary columns, providing a snapshot of the dataset size at this stage."
   ]
  },
  {
   "cell_type": "code",
   "execution_count": 37,
   "id": "b1790cf6",
   "metadata": {},
   "outputs": [
    {
     "data": {
      "text/plain": [
       "(67576, 45)"
      ]
     },
     "execution_count": 37,
     "metadata": {},
     "output_type": "execute_result"
    }
   ],
   "source": [
    "df.shape"
   ]
  },
  {
   "cell_type": "markdown",
   "id": "72f50e88",
   "metadata": {},
   "source": [
    "Remove duplicate patient records based on 'patient_nbr', keeping only the first occurrence. This ensures that each patient is represented only once in the dataset, which is important for unbiased analysis."
   ]
  },
  {
   "cell_type": "code",
   "execution_count": 38,
   "id": "f3811524",
   "metadata": {},
   "outputs": [
    {
     "data": {
      "text/plain": [
       "(67576, 45)"
      ]
     },
     "execution_count": 38,
     "metadata": {},
     "output_type": "execute_result"
    }
   ],
   "source": [
    "df = df.drop_duplicates(subset=[\"patient_nbr\"], keep=\"first\")\n",
    "df.shape"
   ]
  },
  {
   "cell_type": "markdown",
   "id": "27147025",
   "metadata": {},
   "source": [
    "Create a new feature 'numchange' that counts the number of diabetes-related medications that have changed or increased for each patient. This feature captures the intensity of medication adjustments during the patient's care."
   ]
  },
  {
   "cell_type": "code",
   "execution_count": 39,
   "id": "12003af2",
   "metadata": {},
   "outputs": [
    {
     "data": {
      "text/plain": [
       "numchange\n",
       "0    50898\n",
       "1    15702\n",
       "2      900\n",
       "3       73\n",
       "4        3\n",
       "Name: count, dtype: int64"
      ]
     },
     "execution_count": 39,
     "metadata": {},
     "output_type": "execute_result"
    }
   ],
   "source": [
    "keys = ['metformin', 'repaglinide', 'nateglinide', 'chlorpropamide', 'glimepiride', 'glipizide', 'glyburide', 'pioglitazone',\n",
    "        'rosiglitazone', 'acarbose', 'miglitol', 'insulin', 'glyburide-metformin', 'tolazamide', 'metformin-pioglitazone',\n",
    "        'glimepiride-pioglitazone', 'glipizide-metformin', 'troglitazone', 'tolbutamide', 'acetohexamide']\n",
    "\n",
    "for col in keys:\n",
    "    colname = str(col) + 'temp'\n",
    "    df[colname] = df[col].apply(lambda x: 0 if (x == 'No' or x == 'Steady') else 1)\n",
    "\n",
    "df['numchange'] = 0\n",
    "\n",
    "for col in keys:\n",
    "    colname = str(col) + 'temp'\n",
    "    df['numchange'] = df['numchange'] + df[colname]\n",
    "    del df[colname]\n",
    "\n",
    "df['numchange'].value_counts()"
   ]
  },
  {
   "cell_type": "markdown",
   "id": "ab659370",
   "metadata": {},
   "source": [
    "Set pandas option for future behavior, and encode 'change', 'gender', and 'diabetesMed' columns as integers for modeling. This step prepares categorical variables for machine learning algorithms that require numeric input."
   ]
  },
  {
   "cell_type": "code",
   "execution_count": 40,
   "id": "8a679fb6",
   "metadata": {},
   "outputs": [],
   "source": [
    "# set the future behavior option\n",
    "pd.set_option('future.no_silent_downcasting', True)\n",
    "\n",
    "df['change'] = df['change'].replace({'Ch': 1, 'No': 0}).astype(int)\n",
    "df['gender'] = df['gender'].replace({'Male': 1, 'Female': 0}).astype(int)\n",
    "df['diabetesMed'] = df['diabetesMed'].replace({'Yes': 1, 'No': 0}).astype(int)"
   ]
  },
  {
   "cell_type": "markdown",
   "id": "eef6fde5",
   "metadata": {},
   "source": [
    "Encode 'A1Cresult' and 'max_glu_serum' columns into integers: 1 for high, 0 for normal, and -99 for not taken or missing. This transformation standardizes lab result features for easier analysis and modeling."
   ]
  },
  {
   "cell_type": "code",
   "execution_count": 41,
   "id": "6e6544fa",
   "metadata": {},
   "outputs": [],
   "source": [
    "df['A1Cresult'] = df['A1Cresult'].replace({\n",
    "    '>7': 1,\n",
    "    '>8': 1,\n",
    "    'Norm': 0,\n",
    "    'None': -99,\n",
    "    'Not Taken': -99\n",
    "}).astype(int)\n",
    "\n",
    "df['max_glu_serum'] = df['max_glu_serum'].replace({\n",
    "    '>200': 1,\n",
    "    '>300': 1,\n",
    "    'Norm': 0,\n",
    "    'None': -99,\n",
    "    'Not Taken': -99\n",
    "}).astype(int)"
   ]
  },
  {
   "cell_type": "markdown",
   "id": "40c18366",
   "metadata": {},
   "source": [
    "Map age ranges to integer values for easier analysis and display the distribution of the new 'age' feature. This step converts categorical age bins into ordinal values, facilitating numerical analysis."
   ]
  },
  {
   "cell_type": "code",
   "execution_count": 42,
   "id": "0f06c81e",
   "metadata": {},
   "outputs": [
    {
     "data": {
      "text/plain": [
       "age\n",
       "1        63\n",
       "2       357\n",
       "3      1004\n",
       "4      2519\n",
       "5      6494\n",
       "6     11903\n",
       "7     15226\n",
       "8     17331\n",
       "9     10930\n",
       "10     1749\n",
       "Name: count, dtype: int64"
      ]
     },
     "execution_count": 42,
     "metadata": {},
     "output_type": "execute_result"
    }
   ],
   "source": [
    "# Create a mapping dictionary for age ranges\n",
    "age_mapping = {\n",
    "    f'[{10*i}-{10*(i+1)})': i+1 for i in range(10)\n",
    "}\n",
    "\n",
    "df['age'] = df['age'].replace(age_mapping).astype(int)\n",
    "\n",
    "df['age'].value_counts().sort_index()"
   ]
  },
  {
   "cell_type": "markdown",
   "id": "09c95a26",
   "metadata": {},
   "source": [
    "Display the value counts for the 'readmitted' column to inspect its distribution and understand the prevalence of readmission events in the dataset."
   ]
  },
  {
   "cell_type": "code",
   "execution_count": 43,
   "id": "8f078fad",
   "metadata": {},
   "outputs": [
    {
     "data": {
      "text/plain": [
       "readmitted\n",
       "0    61450\n",
       "1     6126\n",
       "Name: count, dtype: int64"
      ]
     },
     "execution_count": 43,
     "metadata": {},
     "output_type": "execute_result"
    }
   ],
   "source": [
    "df['readmitted'].value_counts()"
   ]
  },
  {
   "cell_type": "markdown",
   "id": "3cd248be",
   "metadata": {},
   "source": [
    "Encode the 'readmitted' column: 1 for readmitted within 30 days, 0 otherwise, and show the new distribution. This binary encoding is essential for supervised learning tasks."
   ]
  },
  {
   "cell_type": "code",
   "execution_count": 44,
   "id": "259a231f",
   "metadata": {},
   "outputs": [
    {
     "data": {
      "text/plain": [
       "readmitted\n",
       "0    61450\n",
       "1     6126\n",
       "Name: count, dtype: int64"
      ]
     },
     "execution_count": 44,
     "metadata": {},
     "output_type": "execute_result"
    }
   ],
   "source": [
    "df['readmitted'] = df['readmitted'].replace({'NO': 0, '<30': 1, '>30': 0}).astype(int)\n",
    "df['readmitted'].value_counts()"
   ]
  },
  {
   "cell_type": "markdown",
   "id": "3fae68b1",
   "metadata": {},
   "source": [
    "Clean and group values in 'discharge_disposition_id', 'admission_type_id', and 'admission_source_id' columns using mapping dictionaries. This reduces the complexity of these features and groups similar categories for better modeling."
   ]
  },
  {
   "cell_type": "code",
   "execution_count": 45,
   "id": "038297d2",
   "metadata": {},
   "outputs": [],
   "source": [
    "df = df[df['discharge_disposition_id'] != 11]\n",
    "\n",
    "df[\"admission_type_id\"] = df[\"admission_type_id\"].replace({2: 1, 7: 1, 6: 5, 8: 5}).astype(int)\n",
    "\n",
    "discharge_mappings = {\n",
    "    6: 1,\n",
    "    8: 1,\n",
    "    9: 1,\n",
    "    13: 1,\n",
    "    3: 2,\n",
    "    4: 2,\n",
    "    5: 2,\n",
    "    14: 2,\n",
    "    22: 2,\n",
    "    23: 2,\n",
    "    24: 2,\n",
    "    12: 10,\n",
    "    15: 10,\n",
    "    16: 10,\n",
    "    17: 10,\n",
    "    25: 18,\n",
    "    26: 18,\n",
    "}\n",
    "\n",
    "df['discharge_disposition_id'] = df['discharge_disposition_id'].replace(discharge_mappings).astype(int)\n",
    "\n",
    "admission_mappings = {\n",
    "    2: 1,\n",
    "    3: 1,\n",
    "    5: 4,\n",
    "    6: 4,\n",
    "    10: 4,\n",
    "    22: 4,\n",
    "    25: 4,\n",
    "    15: 9,\n",
    "    17: 9,\n",
    "    20: 9,\n",
    "    21: 9,\n",
    "    13: 11,\n",
    "    14: 11,\n",
    "}\n",
    "\n",
    "df['admission_source_id'] = df['admission_source_id'].replace(admission_mappings).astype(int)"
   ]
  },
  {
   "cell_type": "markdown",
   "id": "2d8eec88",
   "metadata": {},
   "source": [
    "Group diagnosis codes ('diag_1', 'diag_2', 'diag_3') into 9 clinical categories for simplified analysis. This step transforms complex ICD codes into interpretable clinical groups."
   ]
  },
  {
   "cell_type": "code",
   "execution_count": 46,
   "id": "ff02424a",
   "metadata": {},
   "outputs": [],
   "source": [
    "# Group the diagnosis codes into 9 clinical categories\n",
    "diag_cols = ['diag_1', 'diag_2', 'diag_3']\n",
    "\n",
    "for col in diag_cols:\n",
    "    # Only apply string operations if dtype is object (string)\n",
    "    if df[col].dtype == object:\n",
    "        df.loc[df[col].str.contains('V', na=False), col] = -1  # Other\n",
    "        df.loc[df[col].str.contains('E', na=False), col] = -1  # Other\n",
    "    # Convert to numeric, set errors to -1\n",
    "    df[col] = pd.to_numeric(df[col], errors='coerce').fillna(-1).astype(int)\n",
    "\n",
    "for col in diag_cols:\n",
    "    # Circulatory\n",
    "    df.loc[((df[col] >= 390) & (df[col] < 460)) | (df[col] == 785), col] = 1\n",
    "    # Respiratory\n",
    "    df.loc[((df[col] >= 460) & (df[col] < 520)) | (df[col] == 786), col] = 2\n",
    "    # Digestive\n",
    "    df.loc[((df[col] >= 520) & (df[col] < 580)) | (df[col] == 787), col] = 3\n",
    "    # Diabetes\n",
    "    df.loc[df[col] == 250, col] = 4\n",
    "    # Injury\n",
    "    df.loc[(df[col] >= 800) & (df[col] < 1000), col] = 5\n",
    "    # Musculoskeletal\n",
    "    df.loc[(df[col] >= 710) & (df[col] < 740), col] = 6\n",
    "    # Genitourinary\n",
    "    df.loc[((df[col] >= 580) & (df[col] < 630)) | (df[col] == 788), col] = 7\n",
    "    # Neoplasms\n",
    "    df.loc[(df[col] >= 140) & (df[col] < 240), col] = 8\n",
    "    # All other codes are grouped into 'Other'\n",
    "    df.loc[(df[col] > 0) & (df[col] != 1) & (df[col] != 2) & (df[col] != 3) & (df[col] != 4) & (df[col] != 5) & (df[col] != 6) & (df[col] != 7) & (df[col] != 8), col] = 9  # Other"
   ]
  },
  {
   "cell_type": "markdown",
   "id": "a21748f6",
   "metadata": {},
   "source": [
    "Show the final shape of the DataFrame after all preprocessing steps, providing a summary of the cleaned dataset ready for feature engineering and modeling."
   ]
  },
  {
   "cell_type": "code",
   "execution_count": 47,
   "id": "2b12cd4f",
   "metadata": {},
   "outputs": [
    {
     "data": {
      "text/plain": [
       "(67576, 45)"
      ]
     },
     "execution_count": 47,
     "metadata": {},
     "output_type": "execute_result"
    }
   ],
   "source": [
    "df.shape"
   ]
  },
  {
   "cell_type": "markdown",
   "id": "cc89ebaf",
   "metadata": {},
   "source": [
    "Create a new feature 'hba1c_attention' to summarize A1C result and change status for each patient. This feature highlights patients with poor glycemic control and whether their treatment was adjusted."
   ]
  },
  {
   "cell_type": "code",
   "execution_count": 48,
   "id": "5ffdcfb5",
   "metadata": {},
   "outputs": [],
   "source": [
    "def create_hba1c_feature(row):\n",
    "    a1c = row['A1Cresult']\n",
    "    change = row['change']\n",
    "    # Note: Your A1Cresult encoding is 1 for high, 0 for norm, -99 for not taken\n",
    "    if a1c == -99:\n",
    "        return 'Not Measured'\n",
    "    elif a1c == 0:\n",
    "        return 'Normal'\n",
    "    elif a1c == 1 and change == 0:\n",
    "        return 'High, Not Changed'\n",
    "    elif a1c == 1 and change == 1:\n",
    "        return 'High, Changed'\n",
    "    return 'Other' # Fallback\n",
    "\n",
    "df['hba1c_attention'] = df.apply(create_hba1c_feature, axis=1)"
   ]
  },
  {
   "cell_type": "markdown",
   "id": "8be41f09",
   "metadata": {},
   "source": [
    "Create a 'comorbidity_score' feature that counts the number of non-diabetes, non-missing comorbidities for each patient. This provides a quantitative measure of patient complexity and health burden."
   ]
  },
  {
   "cell_type": "code",
   "execution_count": 49,
   "id": "4f580471",
   "metadata": {},
   "outputs": [],
   "source": [
    "def calculate_comorbidity(row):\n",
    "    # We assume diag 4 is 'Diabetes'\n",
    "    diagnoses = {row['diag_1'], row['diag_2'], row['diag_3']}\n",
    "    # Remove -1 (missing) and 4 (diabetes) to count other conditions\n",
    "    comorbidities = diagnoses - {-1, 4}\n",
    "    return len(comorbidities)\n",
    "\n",
    "df['comorbidity_score'] = df.apply(calculate_comorbidity, axis=1)"
   ]
  },
  {
   "cell_type": "markdown",
   "id": "ca1b9f7e",
   "metadata": {},
   "source": [
    "Create a 'prior_utilization' feature by summing outpatient, emergency, and inpatient visits for each patient. This feature reflects the patient's prior healthcare usage, which may be predictive of future readmissions."
   ]
  },
  {
   "cell_type": "code",
   "execution_count": 50,
   "id": "8a66d997",
   "metadata": {},
   "outputs": [],
   "source": [
    "df['prior_utilization'] = df['number_outpatient'] + df['number_emergency'] + df['number_inpatient']"
   ]
  },
  {
   "cell_type": "markdown",
   "id": "bb8c4818",
   "metadata": {},
   "source": [
    "Save the cleaned and processed DataFrame to a new CSV file for further analysis or modeling. This marks the completion of the preprocessing pipeline."
   ]
  },
  {
   "cell_type": "code",
   "execution_count": 51,
   "id": "91eb743c",
   "metadata": {},
   "outputs": [],
   "source": [
    "df.to_csv(\"processed_diabetes_data.csv\", index=False)"
   ]
  }
 ],
 "metadata": {
  "kernelspec": {
   "display_name": "assign-ml",
   "language": "python",
   "name": "python3"
  },
  "language_info": {
   "codemirror_mode": {
    "name": "ipython",
    "version": 3
   },
   "file_extension": ".py",
   "mimetype": "text/x-python",
   "name": "python",
   "nbconvert_exporter": "python",
   "pygments_lexer": "ipython3",
   "version": "3.12.9"
  }
 },
 "nbformat": 4,
 "nbformat_minor": 5
}
