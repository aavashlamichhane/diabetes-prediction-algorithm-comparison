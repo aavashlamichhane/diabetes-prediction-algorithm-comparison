{
 "cells": [
  {
   "cell_type": "code",
   "execution_count": 1,
   "id": "84d4eece",
   "metadata": {},
   "outputs": [],
   "source": [
    "import os\n",
    "import joblib\n",
    "import numpy as np\n",
    "import pandas as pd\n",
    "import matplotlib.pyplot as plt\n",
    "from sklearn.metrics import (\n",
    "    accuracy_score, precision_score, recall_score, f1_score, roc_auc_score,\n",
    "    classification_report, confusion_matrix, roc_curve\n",
    ")\n",
    "from sklearn.ensemble import VotingClassifier, StackingClassifier\n",
    "from sklearn.linear_model import LogisticRegression"
   ]
  },
  {
   "cell_type": "code",
   "execution_count": 2,
   "id": "38b55aed",
   "metadata": {},
   "outputs": [],
   "source": [
    "X_balanced = pd.read_csv('X_balanced.csv')\n",
    "y_balanced = pd.read_csv('y_balanced.csv')"
   ]
  },
  {
   "cell_type": "code",
   "execution_count": 3,
   "id": "f13b57b7",
   "metadata": {},
   "outputs": [],
   "source": [
    "from sklearn.model_selection import train_test_split\n",
    "\n",
    "X_train, X_test, y_train, y_test = train_test_split(\n",
    "    X_balanced, y_balanced, test_size=0.2, random_state=42, stratify=y_balanced\n",
    ")"
   ]
  },
  {
   "cell_type": "code",
   "execution_count": 4,
   "id": "bbdbc8fe",
   "metadata": {},
   "outputs": [],
   "source": [
    "def sanitize_feature_names(df):\n",
    "    df = df.copy()\n",
    "    df.columns = [col.replace(\",\", \"_\").replace(\" \", \"_\").replace(\"[\", \"_\").replace(\"]\", \"_\") for col in df.columns]\n",
    "    return df"
   ]
  },
  {
   "cell_type": "code",
   "execution_count": 5,
   "id": "09f3dd4b",
   "metadata": {},
   "outputs": [],
   "source": [
    "X_train_sanitized = sanitize_feature_names(X_train)\n",
    "X_test_sanitized = sanitize_feature_names(X_test)"
   ]
  },
  {
   "cell_type": "code",
   "execution_count": 6,
   "id": "7a6f89b4",
   "metadata": {},
   "outputs": [],
   "source": [
    "model_dir = \"models\"\n",
    "model_names = [\n",
    "    \"random_forest_best_model\",\n",
    "    \"knn_classifier_best_model\",\n",
    "    \"lightgbm_best_model\",\n",
    "]\n",
    "\n",
    "models = {}\n",
    "for name in model_names:\n",
    "    path = os.path.join(model_dir, f\"{name}.joblib\")\n",
    "    if os.path.exists(path):\n",
    "        models[name] = joblib.load(path)\n",
    "    else:\n",
    "        print(f\"⚠️ Model {name} not found!\")"
   ]
  },
  {
   "cell_type": "code",
   "execution_count": 7,
   "id": "1013d0d8",
   "metadata": {},
   "outputs": [],
   "source": [
    "voting_clf = VotingClassifier(\n",
    "    estimators=[\n",
    "        (\"rf\", models[\"random_forest_best_model\"]),\n",
    "        (\"knn\", models[\"knn_classifier_best_model\"]),\n",
    "        (\"lgbm\", models[\"lightgbm_best_model\"])\n",
    "    ],\n",
    "    voting=\"soft\",\n",
    "    n_jobs=-1\n",
    ")\n",
    "\n",
    "stacking_clf = StackingClassifier(\n",
    "    estimators=[\n",
    "        (\"rf\", models[\"random_forest_best_model\"]),\n",
    "        (\"knn\", models[\"knn_classifier_best_model\"])\n",
    "    ],\n",
    "    final_estimator=LogisticRegression(),\n",
    "    passthrough=True,\n",
    "    n_jobs=-1\n",
    ")"
   ]
  },
  {
   "cell_type": "code",
   "execution_count": 8,
   "id": "97bb1607",
   "metadata": {},
   "outputs": [],
   "source": [
    "results = {}\n",
    "\n",
    "def evaluate_model(model, X_test, y_test, name):\n",
    "    y_pred = model.predict(X_test)\n",
    "    try:\n",
    "        y_proba = model.predict_proba(X_test)[:, 1]\n",
    "        roc_auc = roc_auc_score(y_test, y_proba)\n",
    "    except:\n",
    "        y_proba = None\n",
    "        roc_auc = None\n",
    "\n",
    "    acc = accuracy_score(y_test, y_pred)\n",
    "    prec = precision_score(y_test, y_pred, zero_division=0)\n",
    "    rec = recall_score(y_test, y_pred, zero_division=0)\n",
    "    f1 = f1_score(y_test, y_pred, zero_division=0)\n",
    "\n",
    "    results[name] = {\n",
    "        \"Accuracy\": acc,\n",
    "        \"Precision\": prec,\n",
    "        \"Recall\": rec,\n",
    "        \"F1 Score\": f1,\n",
    "        \"ROC AUC\": roc_auc\n",
    "    }\n",
    "\n",
    "    print(f\"\\n📊 Evaluation for {name}\")\n",
    "    print(\"-\" * 40)\n",
    "    print(classification_report(y_test, y_pred, zero_division=0))\n",
    "    print(\"Confusion Matrix:\")\n",
    "    print(confusion_matrix(y_test, y_pred))\n",
    "    if y_proba is not None:\n",
    "        print(f\"ROC AUC Score: {roc_auc:.4f}\")\n",
    "        fpr, tpr, _ = roc_curve(y_test, y_proba)\n",
    "        plt.figure()\n",
    "        plt.plot(fpr, tpr, label=f\"AUC = {roc_auc:.2f}\")\n",
    "        plt.plot([0, 1], [0, 1], \"k--\")\n",
    "        plt.xlabel(\"FPR\")\n",
    "        plt.ylabel(\"TPR\")\n",
    "        plt.title(f\"ROC Curve - {name}\")\n",
    "        plt.legend()\n",
    "        plt.grid(True)\n",
    "        os.makedirs(\"plots\", exist_ok=True)\n",
    "        plt.savefig(f\"plots/roc_curve_{name.replace(' ', '_').lower()}.png\")\n",
    "        plt.close()\n",
    "        print(f\"📈 ROC Curve saved as plots/roc_curve_{name.replace(' ', '_').lower()}.png\")"
   ]
  },
  {
   "cell_type": "code",
   "execution_count": 9,
   "id": "044beb23",
   "metadata": {},
   "outputs": [
    {
     "name": "stdout",
     "output_type": "stream",
     "text": [
      "\n",
      "🚀 Training Voting Ensemble...\n"
     ]
    },
    {
     "name": "stderr",
     "output_type": "stream",
     "text": [
      "c:\\Users\\Aavash\\miniconda3\\envs\\assign-ml\\Lib\\site-packages\\sklearn\\preprocessing\\_label.py:93: DataConversionWarning: A column-vector y was passed when a 1d array was expected. Please change the shape of y to (n_samples, ), for example using ravel().\n",
      "  y = column_or_1d(y, warn=True)\n",
      "c:\\Users\\Aavash\\miniconda3\\envs\\assign-ml\\Lib\\site-packages\\sklearn\\preprocessing\\_label.py:129: DataConversionWarning: A column-vector y was passed when a 1d array was expected. Please change the shape of y to (n_samples, ), for example using ravel().\n",
      "  y = column_or_1d(y, dtype=self.classes_.dtype, warn=True)\n"
     ]
    },
    {
     "name": "stdout",
     "output_type": "stream",
     "text": [
      "\n",
      "📊 Evaluation for Voting Ensemble\n",
      "----------------------------------------\n",
      "              precision    recall  f1-score   support\n",
      "\n",
      "           0       0.95      0.98      0.97     11230\n",
      "           1       0.98      0.95      0.97     11230\n",
      "\n",
      "    accuracy                           0.97     22460\n",
      "   macro avg       0.97      0.97      0.97     22460\n",
      "weighted avg       0.97      0.97      0.97     22460\n",
      "\n",
      "Confusion Matrix:\n",
      "[[11056   174]\n",
      " [  547 10683]]\n",
      "ROC AUC Score: 0.9978\n",
      "📈 ROC Curve saved as plots/roc_curve_voting_ensemble.png\n",
      "\n",
      "🚀 Training Stacking Ensemble...\n"
     ]
    },
    {
     "name": "stderr",
     "output_type": "stream",
     "text": [
      "c:\\Users\\Aavash\\miniconda3\\envs\\assign-ml\\Lib\\site-packages\\sklearn\\preprocessing\\_label.py:93: DataConversionWarning: A column-vector y was passed when a 1d array was expected. Please change the shape of y to (n_samples, ), for example using ravel().\n",
      "  y = column_or_1d(y, warn=True)\n",
      "c:\\Users\\Aavash\\miniconda3\\envs\\assign-ml\\Lib\\site-packages\\sklearn\\preprocessing\\_label.py:129: DataConversionWarning: A column-vector y was passed when a 1d array was expected. Please change the shape of y to (n_samples, ), for example using ravel().\n",
      "  y = column_or_1d(y, dtype=self.classes_.dtype, warn=True)\n"
     ]
    },
    {
     "name": "stdout",
     "output_type": "stream",
     "text": [
      "\n",
      "📊 Evaluation for Stacking Ensemble\n",
      "----------------------------------------\n",
      "              precision    recall  f1-score   support\n",
      "\n",
      "           0       0.98      0.98      0.98     11230\n",
      "           1       0.98      0.98      0.98     11230\n",
      "\n",
      "    accuracy                           0.98     22460\n",
      "   macro avg       0.98      0.98      0.98     22460\n",
      "weighted avg       0.98      0.98      0.98     22460\n",
      "\n",
      "Confusion Matrix:\n",
      "[[11006   224]\n",
      " [  228 11002]]\n",
      "ROC AUC Score: 0.9985\n",
      "📈 ROC Curve saved as plots/roc_curve_stacking_ensemble.png\n"
     ]
    }
   ],
   "source": [
    "# Train and evaluate\n",
    "for model, name in [(voting_clf, \"Voting Ensemble\"), (stacking_clf, \"Stacking Ensemble\")]:\n",
    "    print(f\"\\n🚀 Training {name}...\")\n",
    "    model.fit(X_train_sanitized, y_train)\n",
    "    evaluate_model(model, X_test, y_test, name)\n",
    "    joblib.dump(model, f\"models/{name.replace(' ', '_').lower()}_model.joblib\")"
   ]
  },
  {
   "cell_type": "code",
   "execution_count": 10,
   "id": "0888aa15",
   "metadata": {},
   "outputs": [
    {
     "data": {
      "image/png": "[encoded data removed]",
      "text/plain": [
       "<Figure size 1000x700 with 1 Axes>"
      ]
     },
     "metadata": {},
     "output_type": "display_data"
    }
   ],
   "source": [
    "plt.figure(figsize=(10, 7))\n",
    "x = np.arange(len(results))\n",
    "width = 0.1\n",
    "\n",
    "metrics = [\"Accuracy\", \"Precision\", \"Recall\", \"F1 Score\"]\n",
    "colors = [\"#FF9999\", \"#66B3FF\", \"#99FF99\", \"#AB00FA\"]\n",
    "\n",
    "for i, (metric, color) in enumerate(zip(metrics, colors)):\n",
    "    plt.bar(\n",
    "        x + i * width,\n",
    "        [results[model][metric] for model in results],\n",
    "        width=width,\n",
    "        label=metric,\n",
    "        color=color,\n",
    "        alpha=0.7\n",
    "    )\n",
    "\n",
    "plt.xlabel(\"Models\")\n",
    "plt.ylabel(\"Scores\")\n",
    "plt.title(\"Model Performance Comparison\")\n",
    "plt.xticks(x + width, results.keys())\n",
    "plt.legend()\n",
    "plt.tight_layout()\n",
    "plt.show()"
   ]
  },
  {
   "cell_type": "code",
   "execution_count": 11,
   "id": "2dbf067b",
   "metadata": {},
   "outputs": [
    {
     "name": "stdout",
     "output_type": "stream",
     "text": [
      "{\n",
      "  \"Voting Ensemble\": {\n",
      "    \"Accuracy\": 0.9678984861976848,\n",
      "    \"Precision\": 0.9839734733351755,\n",
      "    \"Recall\": 0.9512911843276937,\n",
      "    \"F1 Score\": 0.9673563634717255,\n",
      "    \"ROC AUC\": 0.9977522204310584\n",
      "  },\n",
      "  \"Stacking Ensemble\": {\n",
      "    \"Accuracy\": 0.9798753339269813,\n",
      "    \"Precision\": 0.9800463210404419,\n",
      "    \"Recall\": 0.9796972395369545,\n",
      "    \"F1 Score\": 0.9798717491984325,\n",
      "    \"ROC AUC\": 0.9985292146957212\n",
      "  }\n",
      "}\n"
     ]
    }
   ],
   "source": [
    "import json\n",
    "\n",
    "print(json.dumps(results, indent=2, default=str))"
   ]
  }
 ],
 "metadata": {
  "kernelspec": {
   "display_name": "assign-ml",
   "language": "python",
   "name": "python3"
  },
  "language_info": {
   "codemirror_mode": {
    "name": "ipython",
    "version": 3
   },
   "file_extension": ".py",
   "mimetype": "text/x-python",
   "name": "python",
   "nbconvert_exporter": "python",
   "pygments_lexer": "ipython3",
   "version": "3.12.9"
  }
 },
 "nbformat": 4,
 "nbformat_minor": 5
}
